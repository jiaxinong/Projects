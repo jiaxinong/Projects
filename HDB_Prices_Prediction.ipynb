{
  "nbformat": 4,
  "nbformat_minor": 0,
  "metadata": {
    "colab": {
      "provenance": [],
      "toc_visible": true
    },
    "kernelspec": {
      "name": "python3",
      "display_name": "Python 3"
    },
    "language_info": {
      "name": "python"
    }
  },
  "cells": [
    {
      "cell_type": "markdown",
      "source": [
        "## Business Problem\n",
        "\n",
        "- Using hyperparameter tuning on RandomForestRegressor to predict the price that one has to pay for HDB flats\n"
      ],
      "metadata": {
        "id": "2FTzOipUk3er"
      }
    },
    {
      "cell_type": "code",
      "execution_count": null,
      "metadata": {
        "id": "ECdFnhkQrC6f"
      },
      "outputs": [],
      "source": [
        "#import streamlit as st\n",
        "import datetime as dt\n",
        "import numpy as np # linear algebra\n",
        "import pandas as pd # data processing, CSV file I/O (e.g. pd.read_csv)\n",
        "from sklearn.metrics import accuracy_score\n",
        "from sklearn.preprocessing import LabelEncoder\n",
        "from sklearn.model_selection import train_test_split\n",
        "from sklearn.model_selection import RepeatedKFold\n",
        "from sklearn.model_selection import GridSearchCV\n",
        "from sklearn.linear_model import Lasso\n",
        "from sklearn.neighbors import KNeighborsClassifier\n",
        "from sklearn.ensemble import RandomForestRegressor\n",
        "import pickle"
      ]
    },
    {
      "cell_type": "code",
      "source": [
        "import requests\n",
        "import json\n",
        "\n",
        "query_string=['https://data.gov.sg/api/action/datastore_search?resource_id=f1765b54-a209-4718-8d38-a39237f502b3&limit=309885']\n",
        "def hdb_api(query_string):\n",
        "    for url in query_string:\n",
        "        resp = requests.get(url)\n",
        "        data = resp.json()\n",
        "        hdb_records = data['result']['records']            \n",
        "        df = pd.DataFrame.from_dict(hdb_records)\n",
        "        return df"
      ],
      "metadata": {
        "id": "1MRrlCEbsHyS"
      },
      "execution_count": null,
      "outputs": []
    },
    {
      "cell_type": "code",
      "source": [
        "hdb_data = hdb_api(query_string)\n",
        "print(hdb_data.columns)"
      ],
      "metadata": {
        "colab": {
          "base_uri": "https://localhost:8080/"
        },
        "id": "BwEV73_FsMa3",
        "outputId": "cae3a6f8-6afd-404b-8157-3e2c0bd301f7"
      },
      "execution_count": null,
      "outputs": [
        {
          "output_type": "stream",
          "name": "stdout",
          "text": [
            "Index(['town', 'flat_type', 'flat_model', 'floor_area_sqm', 'street_name',\n",
            "       'resale_price', 'month', 'remaining_lease', 'lease_commence_date',\n",
            "       'storey_range', '_id', 'block'],\n",
            "      dtype='object')\n"
          ]
        }
      ]
    },
    {
      "cell_type": "code",
      "source": [
        "hdb_data.head(5)"
      ],
      "metadata": {
        "colab": {
          "base_uri": "https://localhost:8080/",
          "height": 206
        },
        "id": "QuBkMNySt3Na",
        "outputId": "3b27ba17-22df-4790-b325-f4da0e7bab2d"
      },
      "execution_count": null,
      "outputs": [
        {
          "output_type": "execute_result",
          "data": {
            "text/plain": [
              "         town flat_type      flat_model floor_area_sqm        street_name  \\\n",
              "0  ANG MO KIO    2 ROOM        Improved             44  ANG MO KIO AVE 10   \n",
              "1  ANG MO KIO    3 ROOM  New Generation             67   ANG MO KIO AVE 4   \n",
              "2  ANG MO KIO    3 ROOM  New Generation             67   ANG MO KIO AVE 5   \n",
              "3  ANG MO KIO    3 ROOM  New Generation             68  ANG MO KIO AVE 10   \n",
              "4  ANG MO KIO    3 ROOM  New Generation             67   ANG MO KIO AVE 5   \n",
              "\n",
              "  resale_price    month     remaining_lease lease_commence_date storey_range  \\\n",
              "0       232000  2017-01  61 years 04 months                1979     10 TO 12   \n",
              "1       250000  2017-01  60 years 07 months                1978     01 TO 03   \n",
              "2       262000  2017-01  62 years 05 months                1980     01 TO 03   \n",
              "3       265000  2017-01   62 years 01 month                1980     04 TO 06   \n",
              "4       265000  2017-01  62 years 05 months                1980     01 TO 03   \n",
              "\n",
              "   _id block  \n",
              "0    1   406  \n",
              "1    2   108  \n",
              "2    3   602  \n",
              "3    4   465  \n",
              "4    5   601  "
            ],
            "text/html": [
              "\n",
              "  <div id=\"df-5f6a3576-f262-469a-8956-5890469cdf46\">\n",
              "    <div class=\"colab-df-container\">\n",
              "      <div>\n",
              "<style scoped>\n",
              "    .dataframe tbody tr th:only-of-type {\n",
              "        vertical-align: middle;\n",
              "    }\n",
              "\n",
              "    .dataframe tbody tr th {\n",
              "        vertical-align: top;\n",
              "    }\n",
              "\n",
              "    .dataframe thead th {\n",
              "        text-align: right;\n",
              "    }\n",
              "</style>\n",
              "<table border=\"1\" class=\"dataframe\">\n",
              "  <thead>\n",
              "    <tr style=\"text-align: right;\">\n",
              "      <th></th>\n",
              "      <th>town</th>\n",
              "      <th>flat_type</th>\n",
              "      <th>flat_model</th>\n",
              "      <th>floor_area_sqm</th>\n",
              "      <th>street_name</th>\n",
              "      <th>resale_price</th>\n",
              "      <th>month</th>\n",
              "      <th>remaining_lease</th>\n",
              "      <th>lease_commence_date</th>\n",
              "      <th>storey_range</th>\n",
              "      <th>_id</th>\n",
              "      <th>block</th>\n",
              "    </tr>\n",
              "  </thead>\n",
              "  <tbody>\n",
              "    <tr>\n",
              "      <th>0</th>\n",
              "      <td>ANG MO KIO</td>\n",
              "      <td>2 ROOM</td>\n",
              "      <td>Improved</td>\n",
              "      <td>44</td>\n",
              "      <td>ANG MO KIO AVE 10</td>\n",
              "      <td>232000</td>\n",
              "      <td>2017-01</td>\n",
              "      <td>61 years 04 months</td>\n",
              "      <td>1979</td>\n",
              "      <td>10 TO 12</td>\n",
              "      <td>1</td>\n",
              "      <td>406</td>\n",
              "    </tr>\n",
              "    <tr>\n",
              "      <th>1</th>\n",
              "      <td>ANG MO KIO</td>\n",
              "      <td>3 ROOM</td>\n",
              "      <td>New Generation</td>\n",
              "      <td>67</td>\n",
              "      <td>ANG MO KIO AVE 4</td>\n",
              "      <td>250000</td>\n",
              "      <td>2017-01</td>\n",
              "      <td>60 years 07 months</td>\n",
              "      <td>1978</td>\n",
              "      <td>01 TO 03</td>\n",
              "      <td>2</td>\n",
              "      <td>108</td>\n",
              "    </tr>\n",
              "    <tr>\n",
              "      <th>2</th>\n",
              "      <td>ANG MO KIO</td>\n",
              "      <td>3 ROOM</td>\n",
              "      <td>New Generation</td>\n",
              "      <td>67</td>\n",
              "      <td>ANG MO KIO AVE 5</td>\n",
              "      <td>262000</td>\n",
              "      <td>2017-01</td>\n",
              "      <td>62 years 05 months</td>\n",
              "      <td>1980</td>\n",
              "      <td>01 TO 03</td>\n",
              "      <td>3</td>\n",
              "      <td>602</td>\n",
              "    </tr>\n",
              "    <tr>\n",
              "      <th>3</th>\n",
              "      <td>ANG MO KIO</td>\n",
              "      <td>3 ROOM</td>\n",
              "      <td>New Generation</td>\n",
              "      <td>68</td>\n",
              "      <td>ANG MO KIO AVE 10</td>\n",
              "      <td>265000</td>\n",
              "      <td>2017-01</td>\n",
              "      <td>62 years 01 month</td>\n",
              "      <td>1980</td>\n",
              "      <td>04 TO 06</td>\n",
              "      <td>4</td>\n",
              "      <td>465</td>\n",
              "    </tr>\n",
              "    <tr>\n",
              "      <th>4</th>\n",
              "      <td>ANG MO KIO</td>\n",
              "      <td>3 ROOM</td>\n",
              "      <td>New Generation</td>\n",
              "      <td>67</td>\n",
              "      <td>ANG MO KIO AVE 5</td>\n",
              "      <td>265000</td>\n",
              "      <td>2017-01</td>\n",
              "      <td>62 years 05 months</td>\n",
              "      <td>1980</td>\n",
              "      <td>01 TO 03</td>\n",
              "      <td>5</td>\n",
              "      <td>601</td>\n",
              "    </tr>\n",
              "  </tbody>\n",
              "</table>\n",
              "</div>\n",
              "      <button class=\"colab-df-convert\" onclick=\"convertToInteractive('df-5f6a3576-f262-469a-8956-5890469cdf46')\"\n",
              "              title=\"Convert this dataframe to an interactive table.\"\n",
              "              style=\"display:none;\">\n",
              "        \n",
              "  <svg xmlns=\"http://www.w3.org/2000/svg\" height=\"24px\"viewBox=\"0 0 24 24\"\n",
              "       width=\"24px\">\n",
              "    <path d=\"M0 0h24v24H0V0z\" fill=\"none\"/>\n",
              "    <path d=\"M18.56 5.44l.94 2.06.94-2.06 2.06-.94-2.06-.94-.94-2.06-.94 2.06-2.06.94zm-11 1L8.5 8.5l.94-2.06 2.06-.94-2.06-.94L8.5 2.5l-.94 2.06-2.06.94zm10 10l.94 2.06.94-2.06 2.06-.94-2.06-.94-.94-2.06-.94 2.06-2.06.94z\"/><path d=\"M17.41 7.96l-1.37-1.37c-.4-.4-.92-.59-1.43-.59-.52 0-1.04.2-1.43.59L10.3 9.45l-7.72 7.72c-.78.78-.78 2.05 0 2.83L4 21.41c.39.39.9.59 1.41.59.51 0 1.02-.2 1.41-.59l7.78-7.78 2.81-2.81c.8-.78.8-2.07 0-2.86zM5.41 20L4 18.59l7.72-7.72 1.47 1.35L5.41 20z\"/>\n",
              "  </svg>\n",
              "      </button>\n",
              "      \n",
              "  <style>\n",
              "    .colab-df-container {\n",
              "      display:flex;\n",
              "      flex-wrap:wrap;\n",
              "      gap: 12px;\n",
              "    }\n",
              "\n",
              "    .colab-df-convert {\n",
              "      background-color: #E8F0FE;\n",
              "      border: none;\n",
              "      border-radius: 50%;\n",
              "      cursor: pointer;\n",
              "      display: none;\n",
              "      fill: #1967D2;\n",
              "      height: 32px;\n",
              "      padding: 0 0 0 0;\n",
              "      width: 32px;\n",
              "    }\n",
              "\n",
              "    .colab-df-convert:hover {\n",
              "      background-color: #E2EBFA;\n",
              "      box-shadow: 0px 1px 2px rgba(60, 64, 67, 0.3), 0px 1px 3px 1px rgba(60, 64, 67, 0.15);\n",
              "      fill: #174EA6;\n",
              "    }\n",
              "\n",
              "    [theme=dark] .colab-df-convert {\n",
              "      background-color: #3B4455;\n",
              "      fill: #D2E3FC;\n",
              "    }\n",
              "\n",
              "    [theme=dark] .colab-df-convert:hover {\n",
              "      background-color: #434B5C;\n",
              "      box-shadow: 0px 1px 3px 1px rgba(0, 0, 0, 0.15);\n",
              "      filter: drop-shadow(0px 1px 2px rgba(0, 0, 0, 0.3));\n",
              "      fill: #FFFFFF;\n",
              "    }\n",
              "  </style>\n",
              "\n",
              "      <script>\n",
              "        const buttonEl =\n",
              "          document.querySelector('#df-5f6a3576-f262-469a-8956-5890469cdf46 button.colab-df-convert');\n",
              "        buttonEl.style.display =\n",
              "          google.colab.kernel.accessAllowed ? 'block' : 'none';\n",
              "\n",
              "        async function convertToInteractive(key) {\n",
              "          const element = document.querySelector('#df-5f6a3576-f262-469a-8956-5890469cdf46');\n",
              "          const dataTable =\n",
              "            await google.colab.kernel.invokeFunction('convertToInteractive',\n",
              "                                                     [key], {});\n",
              "          if (!dataTable) return;\n",
              "\n",
              "          const docLinkHtml = 'Like what you see? Visit the ' +\n",
              "            '<a target=\"_blank\" href=https://colab.research.google.com/notebooks/data_table.ipynb>data table notebook</a>'\n",
              "            + ' to learn more about interactive tables.';\n",
              "          element.innerHTML = '';\n",
              "          dataTable['output_type'] = 'display_data';\n",
              "          await google.colab.output.renderOutput(dataTable, element);\n",
              "          const docLink = document.createElement('div');\n",
              "          docLink.innerHTML = docLinkHtml;\n",
              "          element.appendChild(docLink);\n",
              "        }\n",
              "      </script>\n",
              "    </div>\n",
              "  </div>\n",
              "  "
            ]
          },
          "metadata": {},
          "execution_count": 39
        }
      ]
    },
    {
      "cell_type": "code",
      "source": [
        "# create a function for data transformation from object to integer\n",
        "def transform_data_to_int_float(dataframe,column,type):\n",
        "  dataframe[column] = dataframe[column].astype(type)"
      ],
      "metadata": {
        "id": "B1EsSN2QvD2M"
      },
      "execution_count": null,
      "outputs": []
    },
    {
      "cell_type": "code",
      "source": [
        "# Fix the categorical data to change type to integer\n",
        "hdb_data['flat_type'] = hdb_data['flat_type'].replace('ROOM','',regex=True)\n",
        "hdb_data['flat_type'] = hdb_data['flat_type'].replace('EXECUTIVE','6',regex=True)\n",
        "hdb_data['flat_type'] = hdb_data['flat_type'].replace('MULTI-GENERATION','6',regex=True)"
      ],
      "metadata": {
        "id": "c7upQa2kvq0-"
      },
      "execution_count": null,
      "outputs": []
    },
    {
      "cell_type": "code",
      "source": [
        "hdb_data['block'].unique()"
      ],
      "metadata": {
        "colab": {
          "base_uri": "https://localhost:8080/"
        },
        "id": "Z-iRJSSJxdd8",
        "outputId": "9a9caf17-9741-41e4-ad72-be0d58be824f"
      },
      "execution_count": null,
      "outputs": [
        {
          "output_type": "execute_result",
          "data": {
            "text/plain": [
              "array(['406', '108', '602', ..., '449B', '694B', '694D'], dtype=object)"
            ]
          },
          "metadata": {},
          "execution_count": 42
        }
      ]
    },
    {
      "cell_type": "code",
      "source": [
        "transform_data_to_int_float(hdb_data,'lease_commence_date','int')\n",
        "transform_data_to_int_float(hdb_data,'flat_type','int')\n",
        "transform_data_to_int_float(hdb_data,'floor_area_sqm','float')\n",
        "transform_data_to_int_float(hdb_data,'resale_price','float')\n"
      ],
      "metadata": {
        "id": "5PxwCkdCvcoa"
      },
      "execution_count": null,
      "outputs": []
    },
    {
      "cell_type": "code",
      "source": [
        "hdb_data_datatypes_as_objects = hdb_data.select_dtypes(include='object')"
      ],
      "metadata": {
        "id": "Cy7Sdrx9ulPc"
      },
      "execution_count": null,
      "outputs": []
    },
    {
      "cell_type": "code",
      "source": [
        "# To identify which \n",
        "hdb_data_datatypes_as_objects.columns"
      ],
      "metadata": {
        "colab": {
          "base_uri": "https://localhost:8080/"
        },
        "id": "NaIoTbz-uyAQ",
        "outputId": "3df963ab-e7e9-4d73-b68c-e25a52072447"
      },
      "execution_count": null,
      "outputs": [
        {
          "output_type": "execute_result",
          "data": {
            "text/plain": [
              "Index(['town', 'flat_model', 'street_name', 'month', 'remaining_lease',\n",
              "       'storey_range', 'block'],\n",
              "      dtype='object')"
            ]
          },
          "metadata": {},
          "execution_count": 45
        }
      ]
    },
    {
      "cell_type": "code",
      "source": [
        "# Looking at the summary of data types in the dataframe\n",
        "hdb_data.dtypes.value_counts()"
      ],
      "metadata": {
        "colab": {
          "base_uri": "https://localhost:8080/"
        },
        "id": "LqmjD5AztxPF",
        "outputId": "c3c442ba-a651-4cbc-fe2a-5be5c24429b8"
      },
      "execution_count": null,
      "outputs": [
        {
          "output_type": "execute_result",
          "data": {
            "text/plain": [
              "object     7\n",
              "int64      3\n",
              "float64    2\n",
              "dtype: int64"
            ]
          },
          "metadata": {},
          "execution_count": 46
        }
      ]
    },
    {
      "cell_type": "code",
      "source": [
        "# converting some categorical variables using Label Encoder\n",
        "\n",
        "labelencoder=LabelEncoder()\n",
        "hdb_data['town_cat']= labelencoder.fit_transform(hdb_data['town'])\n",
        "hdb_data['floor'] = labelencoder.fit_transform(hdb_data['storey_range'])\n"
      ],
      "metadata": {
        "id": "jVhrxiUUscbE"
      },
      "execution_count": null,
      "outputs": []
    },
    {
      "cell_type": "code",
      "source": [
        "# preparing data for Modelling\n",
        "training_data = hdb_data[['town_cat','floor','flat_type','floor_area_sqm','lease_commence_date']]\n",
        "X= training_data\n",
        "y= hdb_data['resale_price']\n",
        "print(training_data.dtypes)\n",
        "print(y.dtypes)\n",
        "\n"
      ],
      "metadata": {
        "colab": {
          "base_uri": "https://localhost:8080/"
        },
        "id": "QvXHTIAFeLYO",
        "outputId": "003c7691-9b4c-424d-c3e3-82168a49730b"
      },
      "execution_count": null,
      "outputs": [
        {
          "output_type": "stream",
          "name": "stdout",
          "text": [
            "town_cat                 int64\n",
            "floor                    int64\n",
            "flat_type                int64\n",
            "floor_area_sqm         float64\n",
            "lease_commence_date      int64\n",
            "dtype: object\n",
            "float64\n"
          ]
        }
      ]
    },
    {
      "cell_type": "code",
      "source": [
        "# Train test split to allow for model validation\n",
        "X_train, X_test, y_train, y_test = train_test_split(X, y, test_size=0.3, random_state=44)"
      ],
      "metadata": {
        "id": "SN79nBBqtJFT"
      },
      "execution_count": null,
      "outputs": []
    },
    {
      "cell_type": "code",
      "source": [
        "#define grid\n",
        "estimator = RandomForestRegressor()\n",
        "param_grid = { \n",
        "            \"n_estimators\"      : [10,20,30], #number of estimators\n",
        "            \"max_features\"      : [\"auto\", \"sqrt\", \"log2\"], #max number of features before creating a new node\n",
        "            \"min_samples_split\" : [2,4,8], #min number of sample required in each node\n",
        "            \"bootstrap\": [True, False], #replacement\n",
        "            }\n",
        "\n",
        "grid = GridSearchCV(estimator, param_grid, n_jobs=-1, cv=5)\n",
        "\n",
        "results=grid.fit(X_train, y_train)\n",
        "print('MAE: %.3f' % results.best_score_)\n",
        "print('Config: %s' % results.best_params_)\n"
      ],
      "metadata": {
        "id": "uysYl16-ucHT",
        "colab": {
          "base_uri": "https://localhost:8080/"
        },
        "outputId": "08f555da-3d2a-49dc-ab43-ef30ca261ffe"
      },
      "execution_count": null,
      "outputs": [
        {
          "output_type": "stream",
          "name": "stdout",
          "text": [
            "MAE: 0.900\n",
            "Config: {'bootstrap': True, 'max_features': 'auto', 'min_samples_split': 8, 'n_estimators': 30}\n"
          ]
        }
      ]
    }
  ]
}